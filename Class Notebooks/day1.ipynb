{
 "cells": [
  {
   "cell_type": "markdown",
   "id": "c04e04cded5f0b12",
   "metadata": {},
   "source": [
    "# Day 1: Getting Setup"
   ]
  },
  {
   "cell_type": "markdown",
   "id": "448848e7",
   "metadata": {},
   "source": [
    "Day 1 basically consists of setting up python and programs required for the class.\n",
    "The class demos will be in Sublime Text, but you can use whatever setup you want.\n",
    "A key setting to enable in Sublime Text is word_wrap"
   ]
  },
  {
   "cell_type": "markdown",
   "source": [
    "Let's now write some python code for today:"
   ],
   "metadata": {
    "collapsed": false
   },
   "id": "ec19e3dc48254fcf"
  },
  {
   "cell_type": "code",
   "execution_count": 4,
   "id": "8e2f96238dc836e2",
   "metadata": {
    "ExecuteTime": {
     "end_time": "2023-09-07T12:48:44.715966Z",
     "start_time": "2023-09-07T12:48:44.713459Z"
    }
   },
   "outputs": [
    {
     "name": "stdout",
     "output_type": "stream",
     "text": [
      "Hello, world!\n"
     ]
    }
   ],
   "source": [
    "print(\"Hello, world!\")"
   ]
  },
  {
   "cell_type": "code",
   "execution_count": 2,
   "id": "e82b612bd6e22341",
   "metadata": {
    "ExecuteTime": {
     "end_time": "2023-09-07T12:38:24.029185Z",
     "start_time": "2023-09-07T12:38:23.312746Z"
    }
   },
   "outputs": [
    {
     "name": "stdout",
     "output_type": "stream",
     "text": [
      "usage: conda [-h] [-V] command ...\r\n",
      "\r\n",
      "conda is a tool for managing and deploying applications, environments and packages.\r\n",
      "\r\n",
      "Options:\r\n",
      "\r\n",
      "positional arguments:\r\n",
      "  command\r\n",
      "    clean             Remove unused packages and caches.\r\n",
      "    compare           Compare packages between conda environments.\r\n",
      "    config            Modify configuration values in .condarc. This is modeled\r\n",
      "                      after the git config command. Writes to the user\r\n",
      "                      .condarc file (/Users/ericyang/.condarc) by default. Use\r\n",
      "                      the --show-sources flag to display all identified\r\n",
      "                      configuration locations on your computer.\r\n",
      "    create            Create a new conda environment from a list of specified\r\n",
      "                      packages.\r\n",
      "    info              Display information about current conda install.\r\n",
      "    init              Initialize conda for shell interaction.\r\n",
      "    install           Installs a list of packages into a specified conda\r\n",
      "                      environment.\r\n",
      "    list              List installed packages in a conda environment.\r\n",
      "    package           Low-level conda package utility. (EXPERIMENTAL)\r\n",
      "    remove (uninstall)\r\n",
      "                      Remove a list of packages from a specified conda\r\n",
      "                      environment. Use `--all` flag to remove all packages and\r\n",
      "                      the environment itself.\r\n",
      "    rename            Renames an existing environment.\r\n",
      "    run               Run an executable in a conda environment.\r\n",
      "    search            Search for packages and display associated\r\n",
      "                      information.The input is a MatchSpec, a query language\r\n",
      "                      for conda packages. See examples below.\r\n",
      "    update (upgrade)  Updates conda packages to the latest compatible version.\r\n",
      "    notices           Retrieves latest channel notifications.\r\n",
      "\r\n",
      "optional arguments:\r\n",
      "  -h, --help          Show this help message and exit.\r\n",
      "  -V, --version       Show the conda version number and exit.\r\n",
      "\r\n",
      "conda commands available from other packages (legacy):\r\n",
      "  build\r\n",
      "  content-trust\r\n",
      "  convert\r\n",
      "  debug\r\n",
      "  develop\r\n",
      "  env\r\n",
      "  index\r\n",
      "  inspect\r\n",
      "  metapackage\r\n",
      "  pack\r\n",
      "  render\r\n",
      "  repo\r\n",
      "  server\r\n",
      "  skeleton\r\n",
      "  token\r\n",
      "  verify\r\n",
      "\n",
      "Note: you may need to restart the kernel to use updated packages.\n"
     ]
    }
   ],
   "source": []
  },
  {
   "cell_type": "code",
   "execution_count": null,
   "id": "a15e7802a2d6a65d",
   "metadata": {},
   "outputs": [],
   "source": []
  }
 ],
 "metadata": {
  "kernelspec": {
   "display_name": "Python 3 (ipykernel)",
   "language": "python",
   "name": "python3"
  },
  "language_info": {
   "codemirror_mode": {
    "name": "ipython",
    "version": 3
   },
   "file_extension": ".py",
   "mimetype": "text/x-python",
   "name": "python",
   "nbconvert_exporter": "python",
   "pygments_lexer": "ipython3",
   "version": "3.11.4"
  }
 },
 "nbformat": 4,
 "nbformat_minor": 5
}
