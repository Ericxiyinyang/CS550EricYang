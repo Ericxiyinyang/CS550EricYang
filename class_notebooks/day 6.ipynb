{
 "cells": [
  {
   "cell_type": "markdown",
   "source": [
    "# Python Lists"
   ],
   "metadata": {
    "collapsed": false
   },
   "id": "adc13a939816ba32"
  },
  {
   "cell_type": "markdown",
   "source": [
    "Let's talk about python lists, or basically arrays if you are coming from C++/Java\n",
    "Using lists in python is very similar to how you would in C++/Java, but there are some differences!"
   ],
   "metadata": {
    "collapsed": false
   },
   "id": "1ea63f4cd35da0b4"
  },
  {
   "cell_type": "code",
   "execution_count": 1,
   "outputs": [
    {
     "name": "stdout",
     "output_type": "stream",
     "text": [
      "1 2 3 4 5\n"
     ]
    }
   ],
   "source": [
    "import random\n",
    "\n",
    "alist = []\n",
    "definedlist = [1, 2, 3, 4, 5]\n",
    "print(*definedlist)"
   ],
   "metadata": {
    "collapsed": false,
    "ExecuteTime": {
     "end_time": "2023-09-27T13:38:22.460727Z",
     "start_time": "2023-09-27T13:38:22.454625Z"
    }
   },
   "id": "21ae1a4b8bc57761"
  },
  {
   "cell_type": "markdown",
   "source": [
    "Two ways of indexing a list, you can either:\n",
    "\n",
    "1. Zero index the list\n",
    "2. +1 index the list"
   ],
   "metadata": {
    "collapsed": false
   },
   "id": "bdd4b2726d628da1"
  },
  {
   "cell_type": "code",
   "execution_count": 2,
   "outputs": [
    {
     "name": "stdout",
     "output_type": "stream",
     "text": [
      "1\n",
      "1\n"
     ]
    }
   ],
   "source": [
    "#zero indexing\n",
    "some_list = [1, 2, 3, 4, 5]\n",
    "print(some_list[0])\n",
    "\n",
    "#plus one indexing\n",
    "some_list = [0, 1, 2, 3, 4, 5] #list is now n+1 long\n",
    "print(some_list[1])\n"
   ],
   "metadata": {
    "collapsed": false,
    "ExecuteTime": {
     "end_time": "2023-09-27T13:41:27.602689Z",
     "start_time": "2023-09-27T13:41:27.590470Z"
    }
   },
   "id": "d338f33e2ae2fd71"
  },
  {
   "cell_type": "markdown",
   "source": [
    "See how these two things are printing the same thing? 1-indexing lists/arrays is actually really useful for competition coding when clarity is key."
   ],
   "metadata": {
    "collapsed": false
   },
   "id": "849d827981a18e8c"
  },
  {
   "cell_type": "markdown",
   "source": [
    "Again, notice Python's convince as an interpreted language and how you can just print the list without a for loop. You can also print lists like how you would in Java."
   ],
   "metadata": {
    "collapsed": false
   },
   "id": "464e311bb593b24d"
  },
  {
   "cell_type": "code",
   "execution_count": 3,
   "outputs": [
    {
     "name": "stdout",
     "output_type": "stream",
     "text": [
      "0\n",
      "1\n",
      "2\n",
      "3\n",
      "4\n",
      "5\n"
     ]
    }
   ],
   "source": [
    "for i in range(len(some_list)):\n",
    "    print(some_list[i])"
   ],
   "metadata": {
    "collapsed": false,
    "ExecuteTime": {
     "end_time": "2023-09-27T13:44:32.196014Z",
     "start_time": "2023-09-27T13:44:32.179380Z"
    }
   },
   "id": "1dca22365f033245"
  },
  {
   "cell_type": "markdown",
   "source": [
    "However, the interesting this is that this isn't even the best implementation of a for loop in Python. You can actually do this:"
   ],
   "metadata": {
    "collapsed": false
   },
   "id": "89325c7068d2bfe2"
  },
  {
   "cell_type": "code",
   "execution_count": 5,
   "outputs": [
    {
     "name": "stdout",
     "output_type": "stream",
     "text": [
      "0 a\n",
      "1 z\n",
      "2 d\n",
      "3 g\n",
      "4 h\n"
     ]
    }
   ],
   "source": [
    "some_list = ['a', 'z','d', 'g', 'h']\n",
    "for element, i in enumerate(some_list):\n",
    "    print(element, i)"
   ],
   "metadata": {
    "collapsed": false,
    "ExecuteTime": {
     "end_time": "2023-09-27T13:46:04.900362Z",
     "start_time": "2023-09-27T13:46:04.898306Z"
    }
   },
   "id": "d77c38b90e8673f3"
  },
  {
   "cell_type": "markdown",
   "source": [
    "See! We now get both an element and also a free tracker!"
   ],
   "metadata": {
    "collapsed": false
   },
   "id": "dc4a15f9ec9ca917"
  },
  {
   "cell_type": "markdown",
   "source": [
    "Ok let's get back to the topic, here is how to fill stuff in python lists. Pretty basic and tbh you really should be using numpy arrays instead of lists XD"
   ],
   "metadata": {
    "collapsed": false
   },
   "id": "52438cb403bbeabd"
  },
  {
   "cell_type": "code",
   "execution_count": 6,
   "outputs": [],
   "source": [
    "# add to end\n",
    "some_list.append('c')\n",
    "\n",
    "# add to front\n",
    "some_list.insert(0, 'b')\n",
    "\n",
    "# delete\n",
    "del some_list[0]\n",
    "# or this\n",
    "some_list.pop(0)\n",
    "# or this\n",
    "some_list.remove('c')"
   ],
   "metadata": {
    "collapsed": false,
    "ExecuteTime": {
     "end_time": "2023-09-27T13:53:57.595669Z",
     "start_time": "2023-09-27T13:53:57.576739Z"
    }
   },
   "id": "305e18624dec5b7"
  },
  {
   "cell_type": "markdown",
   "source": [
    "## Exercises"
   ],
   "metadata": {
    "collapsed": false
   },
   "id": "e664da0589b92e70"
  },
  {
   "cell_type": "code",
   "execution_count": 7,
   "outputs": [
    {
     "name": "stdout",
     "output_type": "stream",
     "text": [
      "[71, 0, 30, 24, 43, 33, 90, 44, 82, 49, 97, 37, 72, 42, 0, 88, 63, 3, 18, 25, 93, 48, 23, 74, 64, 98, 32, 96, 96, 12, 32, 61, 42, 44, 43, 43, 32, 48, 37, 96, 66, 15, 41, 50, 45, 94, 77, 90, 41, 24, 1, 23, 21, 89, 14, 9, 3, 88, 7, 83, 87, 54, 52, 33, 48, 3, 77, 92, 66, 97, 43, 64, 21, 17, 38, 23, 8, 61, 13, 55, 31, 97, 27, 76, 86, 53, 38, 22, 9, 53, 3, 82, 0, 81, 71, 99, 90, 79, 96, 76]\n"
     ]
    }
   ],
   "source": [
    "# create a list that holds 100 random numbers\n",
    "random_numbers = []\n",
    "for i in range(100):\n",
    "    random_numbers.append(random.randint(0, 100))\n",
    "print(random_numbers)"
   ],
   "metadata": {
    "collapsed": false,
    "ExecuteTime": {
     "end_time": "2023-09-27T13:59:16.631084Z",
     "start_time": "2023-09-27T13:59:16.616240Z"
    }
   },
   "id": "8511eaa4fc1d2cb5"
  },
  {
   "cell_type": "code",
   "execution_count": 9,
   "outputs": [
    {
     "name": "stdout",
     "output_type": "stream",
     "text": [
      "[0, 0, 0, 0, 0, 0, 0, 0, 0, 0, 0, 0, 0, 0, 0, 0, 0, 0, 0, 0, 0, 0, 0, 0, 0, 0, 0, 0, 0, 0, 0, 0, 0, 0, 0, 0, 0, 0, 0, 0, 0, 0, 0, 0, 0, 0, 0, 0, 0, 0, 0, 0, 0, 0, 0, 0, 0, 0, 0, 0, 0, 0, 0, 0, 0, 0, 0, 0, 0, 0, 0, 0, 0, 0, 0, 0, 0, 0, 0, 0, 0, 0, 0, 0, 0, 0, 0, 0, 0, 0, 0, 0, 0, 0, 0, 0, 0, 0, 0, 0, 0, 0, 0, 0, 0, 0, 0, 0, 0, 0, 0, 0, 0, 0, 0, 0, 0, 0, 0, 0, 0, 0, 0, 0, 0, 0, 0, 0, 0, 0, 0, 0, 0, 0, 0, 0, 0, 0, 0, 0, 0, 0, 0, 0, 0, 0, 0, 0, 0, 0, 0, 0, 0, 0, 0, 0, 0, 0, 0, 0, 0, 0, 0, 0, 0, 0, 0, 0, 0, 0, 0, 0, 0, 0, 0, 0, 0, 0, 0, 0, 0, 0, 0, 0, 0, 0, 0, 0, 0, 0, 0, 0, 0, 0, 0, 0, 0, 0, 0, 0, 0, 0, 0, 0, 0, 0, 0, 0, 0, 0, 0, 0, 0, 0, 0, 0, 0, 0, 0, 0, 0, 0, 0, 0, 0, 0, 0, 0, 0, 0, 0, 0, 0, 0, 0, 0, 0, 0, 0, 0, 0, 0, 0, 0, 0, 0, 0, 0, 0, 0, 0, 0, 0, 0, 0, 0, 0, 0, 0, 0, 0, 0, 0, 0, 0, 0, 0, 0, 0, 0, 0, 0, 0, 0, 0, 0, 0, 0, 0, 0, 0, 0, 0, 0, 0, 0, 0, 0, 0, 0, 0, 0, 0, 0, 0, 0, 0, 0, 0, 0, 0, 0, 0, 0, 0, 0, 0, 0, 0, 0, 0, 0, 0, 0, 0, 0, 0, 0, 0, 0, 0, 0, 0, 0, 0, 0, 0, 0, 0, 0, 0, 0, 0, 0, 0, 0, 0, 0, 0, 0, 0, 0, 0, 0, 0, 0, 0, 0, 0, 0, 0, 0, 0, 0, 0, 0, 0, 0, 0, 0, 0, 0, 0, 0, 0, 0, 0, 0, 0, 0, 0, 0, 0, 0, 0, 0, 0, 0, 0, 0, 0, 0, 0, 0, 0, 0, 0, 0, 0, 0, 0, 0, 0, 0, 0, 0, 0, 0, 0, 0, 0, 0, 0, 0, 0, 0, 0, 0, 0, 0, 0, 0, 0, 0, 0, 0, 0, 0, 0, 0, 0, 0, 0, 0, 0, 0, 0, 0, 0, 0, 0, 0, 0, 0, 0, 0, 0, 0, 0, 0, 0, 0, 0, 0, 0, 0, 0, 0, 0, 0, 0, 0, 0, 0, 0, 0, 0, 0, 0, 0, 0, 0, 0, 0, 0, 0, 0, 0, 0, 0, 0, 0, 0, 0, 0, 0, 0, 0, 0, 0, 0, 0, 0, 0, 0, 0, 0, 0, 0, 0, 0, 0, 0, 0, 0, 0, 0, 0, 0, 0, 0, 0, 0, 0, 0, 0, 0, 0, 0, 0, 0, 0, 0, 0, 0, 0, 0, 0, 0, 0, 0, 0, 0, 0, 0, 0, 0, 0, 0, 0, 0, 0, 0, 0, 0, 0, 0, 0, 0, 0, 0, 0, 0, 0, 0, 0, 0, 0, 0, 0, 0, 0, 0, 0, 0, 0, 0, 0, 0, 0, 0, 0, 0, 0, 0, 0, 0, 0, 0, 0, 0, 0, 0, 0, 0, 0, 0, 0, 0, 0, 0, 0, 0, 0, 0, 0, 0, 0, 0, 0, 0, 0, 0, 0, 0, 0, 0, 0, 0, 0, 0, 0, 0, 0, 0, 0, 0, 0, 0, 0, 0, 0, 0, 0, 0, 0, 0, 0, 0, 0, 0, 0, 0, 0, 0, 0, 0, 0, 0, 0, 0, 0, 0, 0, 0, 0, 0, 0, 0, 0, 0, 0, 0, 0, 0, 0, 0, 0, 0, 0, 0, 0, 0, 0, 0, 0, 0, 0, 0, 0, 0, 0, 0, 0, 0, 0, 0, 0, 0, 0, 0, 0, 0, 0, 0, 0, 0, 0, 0, 0, 0, 0, 0, 0, 0, 0, 0, 0, 0, 0, 0, 0, 0, 0, 0, 0, 0, 0, 0, 0, 0, 0, 0, 0, 0, 0, 0, 0, 0, 0, 0, 0, 0, 0, 0, 0, 0, 0, 0, 0, 0, 0, 0, 0, 0, 0, 0, 0, 0, 0, 0, 0, 0, 0, 0, 0, 0, 0, 0, 0, 0, 0, 0, 0, 0, 0, 0, 0, 0, 0, 0, 0, 0, 0, 0, 0, 0, 0, 0, 0, 0, 0, 0, 0, 0, 0, 0, 0, 0, 0, 0, 0, 0, 0, 0, 0, 0, 0, 0, 0, 0, 0, 0, 0, 0, 0, 0, 0, 0, 0, 0, 0, 0, 0, 0, 0, 0, 0, 0, 0, 0, 0, 0, 0, 0, 0, 0, 0, 0, 0, 0, 0, 0, 0, 0, 0, 0, 0, 0, 0, 0, 0, 0, 0, 0, 0, 0, 0, 0, 0, 0, 0, 0, 0, 0, 0, 0, 0, 0, 0, 0, 0, 0, 0, 0, 0, 0, 0, 0, 0, 0, 0, 0, 0, 0, 0, 0, 0, 0, 0, 0, 0, 0, 0, 0, 0, 0, 0, 0, 0, 0, 0, 0, 0, 0, 0, 0, 0, 0, 0, 0, 0, 0, 0, 0, 0, 0, 0, 0, 0, 0, 0, 0, 0, 0, 0, 0, 0, 0, 0, 0, 0, 0, 0, 0, 0, 0, 0, 0, 0, 0, 0, 0, 0, 0, 0, 0, 0, 0, 0, 0, 0, 0, 0, 0, 0, 0, 0, 0, 0, 0, 0, 0, 0, 0, 0, 0, 0, 0, 0, 0, 0, 0, 0, 0, 0, 0, 0, 0, 0, 0, 0, 0, 0, 0, 0, 0, 0, 0, 0, 0, 0, 0, 0, 0, 0, 0, 0, 0, 0, 0, 0, 0, 0, 0, 0, 0, 0, 0, 0, 0, 0, 0, 0, 0, 0, 0, 0, 0, 0, 0, 0, 0, 0, 0, 0, 0, 0, 0, 0]\n"
     ]
    }
   ],
   "source": [
    "# create a list that holds 1000 zeros\n",
    "zeros = []\n",
    "for i in range(1000):\n",
    "    zeros.append(0)\n",
    "print(zeros)"
   ],
   "metadata": {
    "collapsed": false,
    "ExecuteTime": {
     "end_time": "2023-09-27T14:01:11.187180Z",
     "start_time": "2023-09-27T14:01:11.179629Z"
    }
   },
   "id": "71231ded892e8867"
  },
  {
   "cell_type": "code",
   "execution_count": 10,
   "outputs": [
    {
     "name": "stdout",
     "output_type": "stream",
     "text": [
      "[77, 84, 91, 98, 105, 112, 119, 126, 133, 140, 147, 154, 161, 168, 175, 182, 189, 196, 203, 210, 217, 224, 231, 238, 245, 252, 259, 266, 273, 280, 287, 294, 301, 308, 315, 322, 329, 336, 343, 350, 357, 364, 371, 378, 385, 392, 399, 406, 413, 420, 427, 434, 441, 448, 455, 462, 469, 476, 483, 490, 497, 504, 511, 518, 525, 532, 539, 546, 553, 560, 567, 574, 581, 588, 595, 602, 609, 616, 623, 630, 637, 644, 651, 658, 665, 672, 679, 686, 693, 700, 707, 714, 721, 728, 735, 742, 749, 756, 763, 770, 777]\n"
     ]
    }
   ],
   "source": [
    "# create a list that holds only numbers that are evenly divisible by 7, from 77 to 777\n",
    "divisible_by_7 = []\n",
    "for i in range(77, 778):\n",
    "    if i % 7 == 0:\n",
    "        divisible_by_7.append(i)\n",
    "print(divisible_by_7)"
   ],
   "metadata": {
    "collapsed": false,
    "ExecuteTime": {
     "end_time": "2023-09-27T14:01:42.407690Z",
     "start_time": "2023-09-27T14:01:42.393046Z"
    }
   },
   "id": "134ff16ec5a29ff3"
  },
  {
   "cell_type": "code",
   "execution_count": 11,
   "outputs": [
    {
     "name": "stdout",
     "output_type": "stream",
     "text": [
      "[182, 10, 150, 88, 166, 70, 184, 46, 102, 118, 172, 82, 102, 32, 74, 144, 16, 116, 182, 190, 70, 160, 132, 68, 112]\n"
     ]
    }
   ],
   "source": [
    "# generate a list of 25 random numbers that are even, and also between 2 and 100\n",
    "even_random_numbers = []\n",
    "for i in range(25):\n",
    "    even_random_numbers.append(random.randint(2, 100) * 2)\n",
    "print(even_random_numbers)"
   ],
   "metadata": {
    "collapsed": false,
    "ExecuteTime": {
     "end_time": "2023-09-27T14:02:10.580350Z",
     "start_time": "2023-09-27T14:02:10.559798Z"
    }
   },
   "id": "e83885412c4ae046"
  },
  {
   "cell_type": "code",
   "execution_count": 12,
   "outputs": [],
   "source": [
    "random_numbers = [random.randint(0, 100) for i in range(100)]"
   ],
   "metadata": {
    "collapsed": false,
    "ExecuteTime": {
     "end_time": "2023-09-27T14:14:14.819850Z",
     "start_time": "2023-09-27T14:14:14.808445Z"
    }
   },
   "id": "5a1a8e3bd617056f"
  },
  {
   "cell_type": "code",
   "execution_count": 13,
   "outputs": [
    {
     "name": "stdout",
     "output_type": "stream",
     "text": [
      "[29, 18, 66, 20, 74, 83, 82, 3, 77, 16]\n"
     ]
    }
   ],
   "source": [
    "# [included:excluded]\n",
    "print(random_numbers[0:10])"
   ],
   "metadata": {
    "collapsed": false,
    "ExecuteTime": {
     "end_time": "2023-09-27T14:23:41.292190Z",
     "start_time": "2023-09-27T14:23:41.275375Z"
    }
   },
   "id": "e83cbc212471657b"
  },
  {
   "cell_type": "code",
   "execution_count": null,
   "outputs": [],
   "source": [],
   "metadata": {
    "collapsed": false
   },
   "id": "aec0dbeaca1fe091"
  }
 ],
 "metadata": {
  "kernelspec": {
   "display_name": "Python 3",
   "language": "python",
   "name": "python3"
  },
  "language_info": {
   "codemirror_mode": {
    "name": "ipython",
    "version": 2
   },
   "file_extension": ".py",
   "mimetype": "text/x-python",
   "name": "python",
   "nbconvert_exporter": "python",
   "pygments_lexer": "ipython2",
   "version": "2.7.6"
  }
 },
 "nbformat": 4,
 "nbformat_minor": 5
}
