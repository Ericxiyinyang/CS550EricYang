{
 "cells": [
  {
   "cell_type": "markdown",
   "source": [
    "# More List Stuff"
   ],
   "metadata": {
    "collapsed": false
   },
   "id": "eafb74101c98de0d"
  },
  {
   "cell_type": "markdown",
   "source": [
    "Let's try to do some more stuff with python lists. We'll start with a warm up."
   ],
   "metadata": {
    "collapsed": false
   },
   "id": "fadf68c279767d45"
  },
  {
   "cell_type": "code",
   "execution_count": 5,
   "outputs": [
    {
     "name": "stdout",
     "output_type": "stream",
     "text": [
      "[1, 2, 3, 4, 5, 6, 7, 8, 9, 10, 11, 12, 13, 14, 15, 16, 17, 18, 19, 20, 21, 22, 23, 24, 25, 26, 27, 28, 29, 30, 31, 32, 33, 34, 35, 36, 37, 38, 39, 40, 41, 42, 43, 44, 45, 46, 47, 48, 49, 50, 51, 52, 53, 54, 55, 56, 57, 58, 59, 60, 61, 62, 63, 64, 65, 66, 67, 68, 69, 70, 71, 72, 73, 74, 75, 76, 77, 78, 79, 80, 81, 82, 83, 84, 85, 86, 87, 88, 89, 90, 91, 92, 93, 94, 95, 96, 97, 98, 99, 100]\n",
      "[1, 2, 3, 4, 6, 7, 8, 9, 11, 12, 13, 14, 16, 17, 18, 19, 21, 22, 23, 24, 26, 27, 28, 29, 31, 32, 33, 34, 36, 37, 38, 39, 41, 42, 43, 44, 46, 47, 48, 49, 51, 52, 53, 54, 56, 57, 58, 59, 61, 62, 63, 64, 66, 67, 68, 69, 71, 72, 73, 74, 76, 77, 78, 79, 81, 82, 83, 84, 86, 87, 88, 89, 91, 92, 93, 94, 96, 97, 98, 99]\n"
     ]
    }
   ],
   "source": [
    "# Generate a list with 100 numbers between 0 and 100\n",
    "# print the list\n",
    "# Take out all divisible by 5 numbers\n",
    "# print the list\n",
    "\n",
    "hundred_numbers = list(range(1, 101))\n",
    "# random approach\n",
    "# hundred_numbers = [random.randint(0, 100) for i in range(100)]\n",
    "print(hundred_numbers)\n",
    "for number in hundred_numbers:\n",
    "    if number % 5 == 0:\n",
    "        hundred_numbers.remove(number)\n",
    "print(hundred_numbers)"
   ],
   "metadata": {
    "collapsed": false,
    "ExecuteTime": {
     "end_time": "2023-10-02T15:58:30.172792Z",
     "start_time": "2023-10-02T15:58:30.167880Z"
    }
   },
   "id": "1c2d52d1fc072963"
  },
  {
   "cell_type": "code",
   "execution_count": 16,
   "outputs": [
    {
     "name": "stdout",
     "output_type": "stream",
     "text": [
      "X | O | X\n",
      "--+---+--\n",
      "O | X | O\n",
      "--+---+--\n",
      "X | O | X\n",
      "--+---+--\n"
     ]
    }
   ],
   "source": [
    "# print out a tic tac toe board that also has | and - and +\n",
    "\n",
    "tictactoe = [['X', 'O', 'X'], ['O', 'X', 'O'], ['X', 'O', 'X']]\n",
    "for row in tictactoe:\n",
    "    print(row[0] + ' | ' + row[1] + ' | ' + row[2])\n",
    "    print('--+---+--')\n",
    "\n",
    "        \n",
    "        "
   ],
   "metadata": {
    "collapsed": false,
    "ExecuteTime": {
     "end_time": "2023-10-02T16:39:14.824232Z",
     "start_time": "2023-10-02T16:39:14.819933Z"
    }
   },
   "id": "de2dda450185c0c7"
  },
  {
   "cell_type": "code",
   "execution_count": null,
   "outputs": [],
   "source": [],
   "metadata": {
    "collapsed": false
   },
   "id": "9c896cc75437074f"
  }
 ],
 "metadata": {
  "kernelspec": {
   "display_name": "Python 3",
   "language": "python",
   "name": "python3"
  },
  "language_info": {
   "codemirror_mode": {
    "name": "ipython",
    "version": 2
   },
   "file_extension": ".py",
   "mimetype": "text/x-python",
   "name": "python",
   "nbconvert_exporter": "python",
   "pygments_lexer": "ipython2",
   "version": "2.7.6"
  }
 },
 "nbformat": 4,
 "nbformat_minor": 5
}
