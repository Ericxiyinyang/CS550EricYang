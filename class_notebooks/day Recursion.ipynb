{
 "cells": [
  {
   "cell_type": "markdown",
   "source": [
    "# Fib Sequence"
   ],
   "metadata": {
    "collapsed": false
   },
   "id": "dd316bbed59dc570"
  },
  {
   "cell_type": "code",
   "execution_count": 7,
   "outputs": [
    {
     "name": "stdout",
     "output_type": "stream",
     "text": [
      "1 1 2 3 5 8 13 21 34 55 89 144 233 377 610 987 1597 2584 4181 6765 "
     ]
    }
   ],
   "source": [
    "def fib(n):\n",
    "    if n == 0 or n == 1:\n",
    "        return 1\n",
    "    else: \n",
    "        return fib(n-1) + fib(n-2)\n",
    "\n",
    "for i in range(20):\n",
    "    print(fib(i), end=\" \")"
   ],
   "metadata": {
    "collapsed": false,
    "ExecuteTime": {
     "end_time": "2023-10-16T16:58:03.329890Z",
     "start_time": "2023-10-16T16:58:03.326530Z"
    }
   },
   "id": "c8fe8ac9e7b3a78f"
  },
  {
   "cell_type": "code",
   "execution_count": null,
   "outputs": [],
   "source": [],
   "metadata": {
    "collapsed": false
   },
   "id": "8223c58bac90093a"
  }
 ],
 "metadata": {
  "kernelspec": {
   "display_name": "Python 3",
   "language": "python",
   "name": "python3"
  },
  "language_info": {
   "codemirror_mode": {
    "name": "ipython",
    "version": 2
   },
   "file_extension": ".py",
   "mimetype": "text/x-python",
   "name": "python",
   "nbconvert_exporter": "python",
   "pygments_lexer": "ipython2",
   "version": "2.7.6"
  }
 },
 "nbformat": 4,
 "nbformat_minor": 5
}
