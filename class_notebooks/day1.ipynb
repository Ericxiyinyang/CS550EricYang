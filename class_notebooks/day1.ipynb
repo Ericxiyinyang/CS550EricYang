{
 "cells": [
  {
   "cell_type": "markdown",
   "id": "c04e04cded5f0b12",
   "metadata": {},
   "source": [
    "# Day 1: Getting Setup"
   ]
  },
  {
   "cell_type": "markdown",
   "id": "448848e7",
   "metadata": {},
   "source": [
    "Day 1 basically consists of setting up python and programs required for the class.\n",
    "The class demos will be in Sublime Text, but you can use whatever setup you want.\n",
    "A key setting to enable in Sublime Text is word_wrap"
   ]
  },
  {
   "cell_type": "markdown",
   "source": [
    "Let's now write some python code for today:"
   ],
   "metadata": {
    "collapsed": false
   },
   "id": "ec19e3dc48254fcf"
  },
  {
   "cell_type": "code",
   "execution_count": 4,
   "id": "8e2f96238dc836e2",
   "metadata": {
    "ExecuteTime": {
     "end_time": "2023-09-07T12:48:44.715966Z",
     "start_time": "2023-09-07T12:48:44.713459Z"
    }
   },
   "outputs": [
    {
     "name": "stdout",
     "output_type": "stream",
     "text": [
      "Hello, world!\n"
     ]
    }
   ],
   "source": [
    "print(\"Hello, world!\")"
   ]
  },
  {
   "cell_type": "markdown",
   "source": [
    "## Syntax errors in python"
   ],
   "metadata": {
    "collapsed": false
   },
   "id": "6aebcacdfcec011c"
  },
  {
   "cell_type": "markdown",
   "source": [
    "Since python is a high-level, interpreted programming language, the interpreter will throw an error before execution if your syntax is wrong. Remember, python can't just run itself, it needs to be interpreted all the way down into machine code. This is usually done by interpreters written in lower-level languages such as C(most popular)"
   ],
   "metadata": {
    "collapsed": false
   },
   "id": "d9c6ab52ef881710"
  },
  {
   "cell_type": "markdown",
   "source": [
    "Let's purposely make an error!"
   ],
   "metadata": {
    "collapsed": false
   },
   "id": "c290cd39ccafa2e9"
  },
  {
   "cell_type": "code",
   "execution_count": 5,
   "id": "e82b612bd6e22341",
   "metadata": {
    "ExecuteTime": {
     "end_time": "2023-09-07T13:13:50.131500Z",
     "start_time": "2023-09-07T13:13:50.126311Z"
    }
   },
   "outputs": [
    {
     "ename": "SyntaxError",
     "evalue": "incomplete input (270660596.py, line 1)",
     "output_type": "error",
     "traceback": [
      "\u001B[0;36m  Cell \u001B[0;32mIn[5], line 1\u001B[0;36m\u001B[0m\n\u001B[0;31m    print(\"This is an error\"\u001B[0m\n\u001B[0m                            ^\u001B[0m\n\u001B[0;31mSyntaxError\u001B[0m\u001B[0;31m:\u001B[0m incomplete input\n"
     ]
    }
   ],
   "source": [
    "print(\"This is an error\""
   ]
  },
  {
   "cell_type": "markdown",
   "source": [],
   "metadata": {
    "collapsed": false
   },
   "id": "521d11c7a8567edd"
  },
  {
   "cell_type": "markdown",
   "source": [
    "See how we now get a Traceback with a pointer telling us where the error is?"
   ],
   "metadata": {
    "collapsed": false
   },
   "id": "e1fd0188acf44f13"
  },
  {
   "cell_type": "code",
   "execution_count": null,
   "outputs": [],
   "source": [],
   "metadata": {
    "collapsed": false
   },
   "id": "9a25224328fb7afe"
  }
 ],
 "metadata": {
  "kernelspec": {
   "display_name": "Python 3 (ipykernel)",
   "language": "python",
   "name": "python3"
  },
  "language_info": {
   "codemirror_mode": {
    "name": "ipython",
    "version": 3
   },
   "file_extension": ".py",
   "mimetype": "text/x-python",
   "name": "python",
   "nbconvert_exporter": "python",
   "pygments_lexer": "ipython3",
   "version": "3.11.4"
  }
 },
 "nbformat": 4,
 "nbformat_minor": 5
}
