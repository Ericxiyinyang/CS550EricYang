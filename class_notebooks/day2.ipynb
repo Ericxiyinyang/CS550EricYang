{
 "cells": [
  {
   "cell_type": "markdown",
   "source": [
    "# Day 2: More Setup"
   ],
   "metadata": {
    "collapsed": false
   },
   "id": "bebe789fcb6e5767"
  },
  {
   "cell_type": "markdown",
   "source": [
    "It's important that you comment your Python code for others to understand, as programming is a high collaborative task. It is possible that without comments, understanding your code will be near impossible for other people. Let's take a look at how to comment in Python."
   ],
   "metadata": {
    "collapsed": false
   },
   "id": "db63d7c2f10c03e2"
  },
  {
   "cell_type": "code",
   "execution_count": null,
   "outputs": [],
   "source": [
    "# This is a single line comment\n",
    "\"\"\"\n",
    "This is a\n",
    "multi-line\n",
    "comment\n",
    "\"\"\""
   ],
   "metadata": {
    "collapsed": false
   },
   "id": "9897b53e4786a7e3"
  },
  {
   "cell_type": "markdown",
   "source": [
    "On every homework assignment, be sure to both cite sources and complete the comment annotation before the start of the script. "
   ],
   "metadata": {
    "collapsed": false
   },
   "id": "7ea37285aeb5618f"
  },
  {
   "cell_type": "code",
   "execution_count": null,
   "outputs": [],
   "source": [
    "\"\"\"\n",
    "Eric\n",
    "Date\n",
    "Sources * see notes\n",
    "Reflection\n",
    "On my honor, I have neither given nor received unauthorized aid on this assignment.\n",
    "\"\"\"\n",
    "\n",
    "\"\"\"\n",
    "Notes on Sources\n",
    "If no source, still say so!\n",
    "Sources: None\n",
    "\n",
    "If you used a person, say so!\n",
    "My brother helped me with explaining how Depth-First Search works\n",
    "\n",
    "If you used a website, say so! Except for Python.org\n",
    "I looked up how to use the random module on: w3schools.com/python/module_random.asp\n",
    "\n",
    "GPT should be cited as a source\n",
    "Description like above but reference the AI tool\n",
    "\n",
    "Before each part that you got help on, comment!\n",
    "<------------------- Start of borrowed code ------------------->\n",
    "<------------------- End of borrowed code ------------------->\n",
    "\"\"\""
   ],
   "metadata": {
    "collapsed": false
   },
   "id": "fdc3c3062d0213c4"
  },
  {
   "cell_type": "markdown",
   "source": [],
   "metadata": {
    "collapsed": false
   },
   "id": "101bf2d58113789f"
  }
 ],
 "metadata": {
  "kernelspec": {
   "display_name": "Python 3",
   "language": "python",
   "name": "python3"
  },
  "language_info": {
   "codemirror_mode": {
    "name": "ipython",
    "version": 2
   },
   "file_extension": ".py",
   "mimetype": "text/x-python",
   "name": "python",
   "nbconvert_exporter": "python",
   "pygments_lexer": "ipython2",
   "version": "2.7.6"
  }
 },
 "nbformat": 4,
 "nbformat_minor": 5
}
