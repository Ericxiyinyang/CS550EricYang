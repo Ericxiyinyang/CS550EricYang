{
 "cells": [
  {
   "cell_type": "markdown",
   "source": [
    "# Python Variables"
   ],
   "metadata": {
    "collapsed": false
   },
   "id": "788bbc6b403e97c6"
  },
  {
   "cell_type": "markdown",
   "source": [
    "Let's first take a look at some best practices in python:\n",
    "1. Be succinct\n",
    "2. Underscore_between_words (snake casing), lower casing variables is preferred in Python\n",
    "3. The variable name has to make sense!"
   ],
   "metadata": {
    "collapsed": false
   },
   "id": "4fe45d4ca6b842e8"
  },
  {
   "cell_type": "markdown",
   "source": [
    "Ok, so now let's take a look at a few variable names, notice which ones are accepted and which ones are NOT accepted:\n",
    "\n",
    "1. ❌asdofiafoiashfioashdof - Bruh....this is literally just SPAM XD\n",
    "2. ❌1stname - a. We should probably seperate this, b. we can't begin with a number in python\n",
    "3. ❌1st_name - ok, so now we've taken the first step, but this still can't run b/c # starts the var\n",
    "4. ❌name_1st - ok, so now we've taken the first step, but this is still sub-optimal, lets try to not do #\n",
    "5. ❌Hello - a. First letter is capital, b. This is too abstract LOL\n",
    "6. ✅friend_group - Nice! we got our first one.\n",
    "7. ❌#funtimes  - Bro...you wrote a comment XD\n",
    "8. ❌SuperPower - Did you just finish taking the AP CSA exam? \n",
    "9. ❌class - If your variable is called this...then how tf are u gonna create a class in python?\n",
    "10. ❌True - Please DO NOT use boolean conditions as variables...just please\n",
    "11. ❌true - Not this either you smarty-pants"
   ],
   "metadata": {
    "collapsed": false
   },
   "id": "b50dfd5e91e7163b"
  },
  {
   "cell_type": "markdown",
   "source": [
    "Ok, now let's do some math fr in python"
   ],
   "metadata": {
    "collapsed": false
   },
   "id": "d28a0fe4d377880"
  },
  {
   "cell_type": "code",
   "execution_count": 1,
   "outputs": [
    {
     "name": "stdout",
     "output_type": "stream",
     "text": [
      "35\n"
     ]
    }
   ],
   "source": [
    "x = 7\n",
    "y = 5\n",
    "\n",
    "# python math is pretty straightforward just use the same signs as the calculator, like this:\n",
    "result = x * y\n",
    "print(result)"
   ],
   "metadata": {
    "collapsed": false,
    "ExecuteTime": {
     "end_time": "2023-09-13T13:53:52.954187Z",
     "start_time": "2023-09-13T13:53:52.951006Z"
    }
   },
   "id": "2d2e9d0e09654d1d"
  },
  {
   "cell_type": "markdown",
   "source": [
    "Now lets look at some more operators in Python"
   ],
   "metadata": {
    "collapsed": false
   },
   "id": "220018647953f0b0"
  },
  {
   "cell_type": "code",
   "execution_count": 2,
   "outputs": [
    {
     "name": "stdout",
     "output_type": "stream",
     "text": [
      "1\n",
      "2\n"
     ]
    }
   ],
   "source": [
    "#check this weird one out!\n",
    "result = x//y\n",
    "print(result)\n",
    "\n",
    "#see, this is a floored division!\n",
    "\n",
    "#check out the modulo operator too!\n",
    "result = x % y\n",
    "print(result)\n",
    "\n",
    "#this one should be pretty familiar if you've taken AP CSA"
   ],
   "metadata": {
    "collapsed": false,
    "ExecuteTime": {
     "end_time": "2023-09-13T13:56:15.276827Z",
     "start_time": "2023-09-13T13:56:15.262989Z"
    }
   },
   "id": "db50b676d2558dbd"
  },
  {
   "cell_type": "code",
   "execution_count": null,
   "outputs": [],
   "source": [],
   "metadata": {
    "collapsed": false
   },
   "id": "aa3b42b6bd5688a4"
  }
 ],
 "metadata": {
  "kernelspec": {
   "display_name": "Python 3",
   "language": "python",
   "name": "python3"
  },
  "language_info": {
   "codemirror_mode": {
    "name": "ipython",
    "version": 2
   },
   "file_extension": ".py",
   "mimetype": "text/x-python",
   "name": "python",
   "nbconvert_exporter": "python",
   "pygments_lexer": "ipython2",
   "version": "2.7.6"
  }
 },
 "nbformat": 4,
 "nbformat_minor": 5
}
