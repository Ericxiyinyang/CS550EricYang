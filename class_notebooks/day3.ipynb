{
 "cells": [
  {
   "cell_type": "markdown",
   "source": [
    "# Python Variables"
   ],
   "metadata": {
    "collapsed": false
   },
   "id": "788bbc6b403e97c6"
  },
  {
   "cell_type": "markdown",
   "source": [
    "Let's first take a look at some best practices in python:\n",
    "1. Be succinct\n",
    "2. Underscore_between_words (snake casing), lower casing variables is preferred in Python\n",
    "3. The variable name has to make sense!"
   ],
   "metadata": {
    "collapsed": false
   },
   "id": "4fe45d4ca6b842e8"
  },
  {
   "cell_type": "markdown",
   "source": [
    "Ok, so now let's take a look at a few variable names, notice which ones are accepted and which ones are NOT accepted:\n",
    "\n",
    "1. ❌asdofiafoiashfioashdof - Bruh....this is literally just SPAM XD\n",
    "2. ❌1stname - a. We should probably seperate this, b. we can't begin with a number in python\n",
    "3. ❌1st_name - ok, so now we've taken the first step, but this still can't run b/c # starts the var\n",
    "4. ❌name_1st - ok, so now we've taken the first step, but this is still sub-optimal, lets try to not do #\n",
    "5. ❌Hello - a. First letter is capital, b. This is too abstract LOL\n",
    "6. ✅friend_group - Nice! we got our first one.\n",
    "7. ❌#funtimes  - Bro...you wrote a comment XD\n",
    "8. ❌SuperPower - Did you just finish taking the AP CSA exam? \n",
    "9. ❌class - If your variable is called this...then how tf are u gonna create a class in python?\n",
    "10. ❌True - Please DO NOT use boolean conditions as variables...just please\n",
    "11. ❌true - Not this either you smarty-pants"
   ],
   "metadata": {
    "collapsed": false
   },
   "id": "b50dfd5e91e7163b"
  },
  {
   "cell_type": "markdown",
   "source": [
    "Ok, now let's do some math fr in python"
   ],
   "metadata": {
    "collapsed": false
   },
   "id": "d28a0fe4d377880"
  },
  {
   "cell_type": "code",
   "execution_count": 1,
   "outputs": [
    {
     "name": "stdout",
     "output_type": "stream",
     "text": [
      "35\n"
     ]
    }
   ],
   "source": [
    "x = 7\n",
    "y = 5\n",
    "\n",
    "# python math is pretty straightforward just use the same signs as the calculator, like this:\n",
    "result = x * y\n",
    "print(result)"
   ],
   "metadata": {
    "collapsed": false,
    "ExecuteTime": {
     "end_time": "2023-09-13T13:53:52.954187Z",
     "start_time": "2023-09-13T13:53:52.951006Z"
    }
   },
   "id": "2d2e9d0e09654d1d"
  },
  {
   "cell_type": "markdown",
   "source": [
    "Now lets look at some more operators in Python"
   ],
   "metadata": {
    "collapsed": false
   },
   "id": "220018647953f0b0"
  },
  {
   "cell_type": "code",
   "execution_count": 2,
   "outputs": [
    {
     "name": "stdout",
     "output_type": "stream",
     "text": [
      "1\n",
      "2\n"
     ]
    }
   ],
   "source": [
    "#check this weird one out!\n",
    "result = x//y\n",
    "print(result)\n",
    "\n",
    "#see, this is a floored division!\n",
    "\n",
    "#check out the modulo operator too!\n",
    "result = x % y\n",
    "print(result)\n",
    "\n",
    "#this one should be pretty familiar if you've taken AP CSA"
   ],
   "metadata": {
    "collapsed": false,
    "ExecuteTime": {
     "end_time": "2023-09-13T13:56:15.276827Z",
     "start_time": "2023-09-13T13:56:15.262989Z"
    }
   },
   "id": "db50b676d2558dbd"
  },
  {
   "cell_type": "markdown",
   "source": [
    "Ok, now lets look at some of python's math functions, they are really nice, but you should really be learning some numpy because it is soooo useful"
   ],
   "metadata": {
    "collapsed": false
   },
   "id": "bcc96b745060c984"
  },
  {
   "cell_type": "code",
   "execution_count": 3,
   "outputs": [
    {
     "name": "stdout",
     "output_type": "stream",
     "text": [
      "5\n",
      "32\n",
      "2.23606797749979\n"
     ]
    }
   ],
   "source": [
    "import math\n",
    "import random as rd\n",
    "\n",
    "print(abs(-5))\n",
    "print(pow(2, 5))\n",
    "print(math.sqrt(5))"
   ],
   "metadata": {
    "collapsed": false,
    "ExecuteTime": {
     "end_time": "2023-09-13T14:10:29.093507Z",
     "start_time": "2023-09-13T14:10:29.076635Z"
    }
   },
   "id": "aa3b42b6bd5688a4"
  },
  {
   "cell_type": "markdown",
   "source": [
    "Here is some sample random for Python"
   ],
   "metadata": {
    "collapsed": false
   },
   "id": "cb7d070fd07c96e0"
  },
  {
   "cell_type": "code",
   "execution_count": 4,
   "outputs": [
    {
     "name": "stdout",
     "output_type": "stream",
     "text": [
      "0.385445295253808\n",
      "3\n",
      "99\n",
      "46\n"
     ]
    }
   ],
   "source": [
    "# random decimal between 0 and 1\n",
    "# random integer between 1 and 10\n",
    "# random integer between 50 and 100\n",
    "# random even integer between 2 and 100\n",
    "\n",
    "print(rd.random())\n",
    "print(rd.randint(1, 10))\n",
    "print(rd.randint(50, 100))\n",
    "print(rd.randrange(2, 100, 2))"
   ],
   "metadata": {
    "collapsed": false,
    "ExecuteTime": {
     "end_time": "2023-09-13T14:14:44.576778Z",
     "start_time": "2023-09-13T14:14:44.563116Z"
    }
   },
   "id": "f889515f712221a2"
  },
  {
   "cell_type": "markdown",
   "source": [
    "Here is a sample of a knockoff minesweeper made with random!"
   ],
   "metadata": {
    "collapsed": false
   },
   "id": "bf9ba2421945e6a6"
  },
  {
   "cell_type": "code",
   "execution_count": 5,
   "outputs": [
    {
     "name": "stdout",
     "output_type": "stream",
     "text": [
      "Welcome to Ericsweeper, the worst version of minesweeper you can play!\n",
      "0 = empty safe spot, 1 = immunity, 2 = landmine\n",
      "█ █ █ █ █ █ █ █ █ █ \n",
      "█ █ █ █ █ █ █ █ 1 █ \n",
      "█ █ █ █ █ █ █ █ █ █ \n",
      "█ █ █ █ █ █ █ █ █ █ \n",
      "█ █ █ █ █ █ █ █ █ █ \n",
      "█ █ █ █ █ █ █ █ █ █ \n",
      "█ █ █ █ █ █ █ █ █ █ \n",
      "█ █ █ █ █ █ █ █ █ █ \n",
      "█ █ █ █ █ █ █ █ █ █ \n",
      "█ █ █ █ █ █ █ █ █ █ \n",
      "You've stepped on safe grounds!\n",
      "█ █ █ █ █ █ █ █ 2 █ \n",
      "█ █ █ █ █ █ █ █ █ █ \n",
      "█ █ █ █ █ █ █ █ █ █ \n",
      "█ █ █ █ █ █ █ █ █ █ \n",
      "█ █ █ █ █ █ █ █ █ █ \n",
      "█ █ █ █ █ █ █ █ █ █ \n",
      "█ █ █ █ █ █ █ █ █ █ \n",
      "█ █ █ █ █ █ █ █ █ █ \n",
      "█ █ █ █ █ █ █ █ █ █ \n",
      "█ █ █ █ █ █ █ █ █ █ \n",
      "Game Over!\n"
     ]
    }
   ],
   "source": [
    "import numpy as np\n",
    "import random\n",
    "\n",
    "sweep_board = np.zeros((10, 10), int)\n",
    "for i in range(len(sweep_board)):\n",
    "    for j in range(len(sweep_board[i])):\n",
    "        sweep_board[i][j] = random.randint(0, 2)\n",
    "\n",
    "print(\"Welcome to Ericsweeper, the worst version of minesweeper you can play!\\n0 = empty safe spot, 1 = immunity, 2 = landmine\")\n",
    "pos_x = random.randint(0, len(sweep_board[1]) - 1)\n",
    "pos_y = random.randint(0, len(sweep_board) - 1)\n",
    "\n",
    "# if you are started under a bomb you get moved to somewhere with no bomb under\n",
    "while sweep_board[pos_y][pos_x] == 2:\n",
    "    for i in range(len(sweep_board)):\n",
    "        for j in range(len(sweep_board[i])):\n",
    "            pos_x = j\n",
    "            pos_y = i\n",
    "previous_x = pos_x\n",
    "previous_y = pos_y\n",
    "immunity = 0\n",
    "continue_game = True\n",
    "while continue_game is True:\n",
    "    for i in range(len(sweep_board)):\n",
    "        for j in range(len(sweep_board[i])):\n",
    "            if i == pos_y and j == pos_x:\n",
    "                print(sweep_board[i][j], end=\" \")\n",
    "            else:\n",
    "                print(\"█\", end=\" \")\n",
    "        print()\n",
    "    if sweep_board[pos_y][pos_x] == 0 or pos_y == previous_y and pos_x == previous_x:\n",
    "        print(\"You've stepped on safe grounds!\")\n",
    "    elif sweep_board[pos_y][pos_x] == 1:\n",
    "        print(\"You've gained +1 immunity!\")\n",
    "        immunity += 1\n",
    "        sweep_board[pos_y][pos_x] = 0\n",
    "    else:\n",
    "        if immunity > 0:\n",
    "            immunity -= 1\n",
    "            print(\"You've stepped on a landmine, but don't worry you still have immunity!\")\n",
    "            print(f\"Current Immunity Left: {immunity}\")\n",
    "        else:\n",
    "            print(\"Game Over!\")\n",
    "            continue_game = False\n",
    "            break\n",
    "    previous_x = pos_x\n",
    "    previous_y = pos_y\n",
    "    direction = input(\"w. up, s. down, d. right, a. left\\n>>>\")\n",
    "    if direction == 'w':\n",
    "        if pos_y == 0:\n",
    "            print(\"Can't move up anymore! choose another direction\")\n",
    "        else:\n",
    "            pos_y -= 1\n",
    "    elif direction == 's':\n",
    "        if pos_y == 9:\n",
    "            print(\"Can't move down anymore! choose another direction\")\n",
    "        else:\n",
    "            pos_y += 1\n",
    "    elif direction == 'd':\n",
    "        if pos_x == 9:\n",
    "            print(\"Can't move right anymore! choose another direction\")\n",
    "        else:\n",
    "            pos_x += 1\n",
    "    elif direction == 'a':\n",
    "        if pos_x == 0:\n",
    "            print(\"Can't move left anymore! choose another direction\")\n",
    "        else:\n",
    "            pos_x -= 1\n",
    "    else:\n",
    "        print(\"Oops! That's not an option!\")"
   ],
   "metadata": {
    "collapsed": false,
    "ExecuteTime": {
     "end_time": "2023-09-13T14:17:00.770548Z",
     "start_time": "2023-09-13T14:16:57.160885Z"
    }
   },
   "id": "6642562181a750d3"
  },
  {
   "cell_type": "code",
   "execution_count": 6,
   "outputs": [
    {
     "name": "stdout",
     "output_type": "stream",
     "text": [
      "2.0\n"
     ]
    }
   ],
   "source": [
    "result = 42/21\n",
    "print(result)"
   ],
   "metadata": {
    "collapsed": false,
    "ExecuteTime": {
     "end_time": "2023-09-13T14:21:56.489597Z",
     "start_time": "2023-09-13T14:21:56.469953Z"
    }
   },
   "id": "9b2fd22ab568b326"
  },
  {
   "cell_type": "code",
   "execution_count": null,
   "outputs": [],
   "source": [],
   "metadata": {
    "collapsed": false
   },
   "id": "53c5bb093d944803"
  }
 ],
 "metadata": {
  "kernelspec": {
   "display_name": "Python 3",
   "language": "python",
   "name": "python3"
  },
  "language_info": {
   "codemirror_mode": {
    "name": "ipython",
    "version": 2
   },
   "file_extension": ".py",
   "mimetype": "text/x-python",
   "name": "python",
   "nbconvert_exporter": "python",
   "pygments_lexer": "ipython2",
   "version": "2.7.6"
  }
 },
 "nbformat": 4,
 "nbformat_minor": 5
}
