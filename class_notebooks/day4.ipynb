{
 "cells": [
  {
   "cell_type": "markdown",
   "source": [
    "# Python for & while loops"
   ],
   "metadata": {
    "collapsed": false
   },
   "id": "b44e18502972670f"
  },
  {
   "cell_type": "markdown",
   "source": [
    "For and while loops are pretty useful in coding, in python, the implementation is relatively simple. The usual rule of thumb with for and while loops is:\n"
   ],
   "metadata": {
    "collapsed": false
   },
   "id": "b5f2e1726da0adcf"
  },
  {
   "cell_type": "markdown",
   "source": [
    "✅I know how many times I need to repeat something --> *for loop*"
   ],
   "metadata": {
    "collapsed": false
   },
   "id": "2384dc6e6c4d1978"
  },
  {
   "cell_type": "markdown",
   "source": [
    "❌I know what the *stop condition* should be, but not how many times you need to repeat --> *while loop*"
   ],
   "metadata": {
    "collapsed": false
   },
   "id": "81e5030c19e4ed34"
  },
  {
   "cell_type": "markdown",
   "source": [
    "Here is a sample of *while* loops, you can see that in this case, we don't know how many times exactly this loop needs to run. We do know however, when to stop."
   ],
   "metadata": {
    "collapsed": false
   },
   "id": "42ba80626f556531"
  },
  {
   "cell_type": "code",
   "execution_count": 1,
   "outputs": [
    {
     "name": "stdout",
     "output_type": "stream",
     "text": [
      "Playing random number game\n",
      "Playing random number game\n",
      "Playing random number game\n",
      "Playing random number game\n",
      "Playing random number game\n",
      "Playing random number game\n",
      "Playing random number game\n",
      "Playing random number game\n",
      "Playing random number game\n",
      "Playing random number game\n",
      "Game over!\n"
     ]
    }
   ],
   "source": [
    "import random\n",
    "game_continue = True\n",
    "while game_continue:\n",
    "    print(\"Playing random number game\")\n",
    "    if random.random() < .2:\n",
    "        print(\"Game over!\")\n",
    "        game_continue = False"
   ],
   "metadata": {
    "collapsed": false,
    "ExecuteTime": {
     "end_time": "2023-09-15T12:30:20.014701Z",
     "start_time": "2023-09-15T12:30:20.011222Z"
    }
   },
   "id": "fa5bfe1c0d438438"
  },
  {
   "cell_type": "markdown",
   "source": [
    "If we do know how many times we need to loop, it's best to use a for loop"
   ],
   "metadata": {
    "collapsed": false
   },
   "id": "ef29bfe7d7dcf3c5"
  },
  {
   "cell_type": "code",
   "execution_count": 7,
   "outputs": [
    {
     "name": "stdout",
     "output_type": "stream",
     "text": [
      "0\n",
      "1\n",
      "2\n",
      "3\n",
      "4\n",
      "5\n",
      "35\n",
      "65\n",
      "95\n"
     ]
    }
   ],
   "source": [
    "for x in range(5):\n",
    "    print(x)\n",
    "    \n",
    "# the same thing as for(int i = 5; i < 100; i+=2) in other languages\n",
    "for x in range(5, 100, 30):\n",
    "    print(x)"
   ],
   "metadata": {
    "collapsed": false,
    "ExecuteTime": {
     "end_time": "2023-09-15T12:43:07.997457Z",
     "start_time": "2023-09-15T12:43:07.993788Z"
    }
   },
   "id": "72f54e39e0e54a0f"
  },
  {
   "cell_type": "markdown",
   "source": [
    "Ok, let's get real, you're using python not to write basic loops, you're using python because of its \"Pythonian\" code. Let's see a classic, if someone wanted to print both the index & value of a list, using enumerate() is the best option."
   ],
   "metadata": {
    "collapsed": false
   },
   "id": "177ff463127f311f"
  },
  {
   "cell_type": "code",
   "execution_count": 5,
   "outputs": [
    {
     "name": "stdout",
     "output_type": "stream",
     "text": [
      "0 : 2\n",
      "1 : 3\n",
      "2 : 6\n",
      "3 : 5\n",
      "4 : 4\n"
     ]
    }
   ],
   "source": [
    "mylist = [2, 3, 6, 5, 4]\n",
    "for count, item in enumerate(mylist):\n",
    "    print(f\"{count} : {item}\")"
   ],
   "metadata": {
    "collapsed": false,
    "ExecuteTime": {
     "end_time": "2023-09-15T12:40:24.297445Z",
     "start_time": "2023-09-15T12:40:24.287008Z"
    }
   },
   "id": "b77e64f71f1a19d1"
  },
  {
   "cell_type": "markdown",
   "source": [
    "If you are using python and NOT doing this, what are you doing XD???"
   ],
   "metadata": {
    "collapsed": false
   },
   "id": "9d528cef8eddc31"
  },
  {
   "cell_type": "code",
   "execution_count": null,
   "outputs": [],
   "source": [],
   "metadata": {
    "collapsed": false
   },
   "id": "ffe9b60e3e725ace"
  }
 ],
 "metadata": {
  "kernelspec": {
   "display_name": "Python 3",
   "language": "python",
   "name": "python3"
  },
  "language_info": {
   "codemirror_mode": {
    "name": "ipython",
    "version": 2
   },
   "file_extension": ".py",
   "mimetype": "text/x-python",
   "name": "python",
   "nbconvert_exporter": "python",
   "pygments_lexer": "ipython2",
   "version": "2.7.6"
  }
 },
 "nbformat": 4,
 "nbformat_minor": 5
}
