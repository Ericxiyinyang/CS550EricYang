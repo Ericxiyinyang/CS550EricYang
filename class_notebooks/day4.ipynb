{
 "cells": [
  {
   "cell_type": "markdown",
   "source": [
    "# Python for & while loops"
   ],
   "metadata": {
    "collapsed": false
   },
   "id": "b44e18502972670f"
  },
  {
   "cell_type": "markdown",
   "source": [
    "For and while loops are pretty useful in coding, in python, the implementation is relatively simple. The usual rule of thumb with for and while loops is:\n"
   ],
   "metadata": {
    "collapsed": false
   },
   "id": "b5f2e1726da0adcf"
  },
  {
   "cell_type": "markdown",
   "source": [
    "✅I know how many times I need to repeat something --> *for loop*"
   ],
   "metadata": {
    "collapsed": false
   },
   "id": "2384dc6e6c4d1978"
  },
  {
   "cell_type": "markdown",
   "source": [
    "❌I know what the *stop condition* should be, but not how many times you need to repeat --> *while loop*"
   ],
   "metadata": {
    "collapsed": false
   },
   "id": "81e5030c19e4ed34"
  },
  {
   "cell_type": "markdown",
   "source": [
    "Here is a sample of *while* loops, you can see that in this case, we don't know how many times exactly this loop needs to run. We do know however, when to stop."
   ],
   "metadata": {
    "collapsed": false
   },
   "id": "42ba80626f556531"
  },
  {
   "cell_type": "code",
   "execution_count": 1,
   "outputs": [
    {
     "name": "stdout",
     "output_type": "stream",
     "text": [
      "Playing random number game\n",
      "Playing random number game\n",
      "Playing random number game\n",
      "Playing random number game\n",
      "Playing random number game\n",
      "Playing random number game\n",
      "Playing random number game\n",
      "Playing random number game\n",
      "Playing random number game\n",
      "Playing random number game\n",
      "Game over!\n"
     ]
    }
   ],
   "source": [
    "import random\n",
    "game_continue = True\n",
    "while game_continue:\n",
    "    print(\"Playing random number game\")\n",
    "    if random.random() < .2:\n",
    "        print(\"Game over!\")\n",
    "        game_continue = False"
   ],
   "metadata": {
    "collapsed": false,
    "ExecuteTime": {
     "end_time": "2023-09-15T12:30:20.014701Z",
     "start_time": "2023-09-15T12:30:20.011222Z"
    }
   },
   "id": "fa5bfe1c0d438438"
  },
  {
   "cell_type": "markdown",
   "source": [
    "If we do know how many times we need to loop, it's best to use a for loop"
   ],
   "metadata": {
    "collapsed": false
   },
   "id": "ef29bfe7d7dcf3c5"
  },
  {
   "cell_type": "code",
   "execution_count": 7,
   "outputs": [
    {
     "name": "stdout",
     "output_type": "stream",
     "text": [
      "0\n",
      "1\n",
      "2\n",
      "3\n",
      "4\n",
      "5\n",
      "35\n",
      "65\n",
      "95\n"
     ]
    }
   ],
   "source": [
    "for x in range(5):\n",
    "    print(x)\n",
    "    \n",
    "# the same thing as for(int i = 5; i < 100; i+=2) in other languages\n",
    "for x in range(5, 100, 30):\n",
    "    print(x)"
   ],
   "metadata": {
    "collapsed": false,
    "ExecuteTime": {
     "end_time": "2023-09-15T12:43:07.997457Z",
     "start_time": "2023-09-15T12:43:07.993788Z"
    }
   },
   "id": "72f54e39e0e54a0f"
  },
  {
   "cell_type": "markdown",
   "source": [
    "Ok, let's get real, you're using python not to write basic loops, you're using python because of its \"Pythonian\" code. Let's see a classic, if someone wanted to print both the index & value of a list, using enumerate() is the best option."
   ],
   "metadata": {
    "collapsed": false
   },
   "id": "177ff463127f311f"
  },
  {
   "cell_type": "code",
   "execution_count": 5,
   "outputs": [
    {
     "name": "stdout",
     "output_type": "stream",
     "text": [
      "0 : 2\n",
      "1 : 3\n",
      "2 : 6\n",
      "3 : 5\n",
      "4 : 4\n"
     ]
    }
   ],
   "source": [
    "mylist = [2, 3, 6, 5, 4]\n",
    "for count, item in enumerate(mylist):\n",
    "    print(f\"{count} : {item}\")"
   ],
   "metadata": {
    "collapsed": false,
    "ExecuteTime": {
     "end_time": "2023-09-15T12:40:24.297445Z",
     "start_time": "2023-09-15T12:40:24.287008Z"
    }
   },
   "id": "b77e64f71f1a19d1"
  },
  {
   "cell_type": "markdown",
   "source": [
    "If you are using python and NOT doing this, what are you doing XD???"
   ],
   "metadata": {
    "collapsed": false
   },
   "id": "9d528cef8eddc31"
  },
  {
   "cell_type": "markdown",
   "source": [
    "Lets do some practice!:"
   ],
   "metadata": {
    "collapsed": false
   },
   "id": "7d76372a2754e811"
  },
  {
   "cell_type": "code",
   "execution_count": 9,
   "outputs": [
    {
     "name": "stdout",
     "output_type": "stream",
     "text": [
      "100 90 80 70 60 50 40 30 20 10 0 -10 -20 -30 -40 -50 -60 -70 -80 -90 -100 "
     ]
    }
   ],
   "source": [
    "for i in range(100, -101, -10):\n",
    "    print(i, end=\" \")"
   ],
   "metadata": {
    "collapsed": false,
    "ExecuteTime": {
     "end_time": "2023-09-15T12:46:16.314120Z",
     "start_time": "2023-09-15T12:46:16.311685Z"
    }
   },
   "id": "ffe9b60e3e725ace"
  },
  {
   "cell_type": "code",
   "execution_count": 10,
   "outputs": [
    {
     "name": "stdout",
     "output_type": "stream",
     "text": [
      "7 14 21 28 35 42 49 56 63 70 77 84 91 98 105 112 119 126 133 140 147 154 161 168 175 182 189 196 203 210 217 224 231 238 245 252 259 266 273 280 287 294 301 308 315 322 329 336 343 350 357 364 371 378 385 392 399 406 413 420 427 434 441 448 455 462 469 476 483 490 497 504 511 518 525 532 539 546 553 560 567 574 581 588 595 602 609 616 623 630 637 644 651 658 665 672 679 686 693 700 "
     ]
    }
   ],
   "source": [
    "for i in range(7, 701, 7):\n",
    "    print(i, end=\" \")"
   ],
   "metadata": {
    "collapsed": false,
    "ExecuteTime": {
     "end_time": "2023-09-15T12:46:45.466354Z",
     "start_time": "2023-09-15T12:46:45.453188Z"
    }
   },
   "id": "f94bb39e81e72df1"
  },
  {
   "cell_type": "code",
   "execution_count": 16,
   "outputs": [
    {
     "name": "stdout",
     "output_type": "stream",
     "text": [
      "1 -2 3 -4 5 -6 7 -8 9 -10 11 -12 13 -14 15 -16 17 -18 19 -20 21 -22 23 -24 25 -26 27 -28 29 -30 31 -32 33 -34 35 -36 37 -38 39 -40 41 -42 43 -44 45 -46 47 -48 49 -50 51 -52 53 -54 55 -56 57 -58 59 -60 61 -62 63 -64 65 -66 67 -68 69 -70 71 -72 73 -74 75 -76 77 -78 79 -80 81 -82 83 -84 85 -86 87 -88 89 -90 91 -92 93 -94 95 -96 97 -98 99 -100 "
     ]
    }
   ],
   "source": [
    "import math\n",
    "for i in range(1, 101, 1):\n",
    "    print(int(i * (math.pow(-1, i-1))), end=\" \")\n",
    "    "
   ],
   "metadata": {
    "collapsed": false,
    "ExecuteTime": {
     "end_time": "2023-09-15T12:50:40.383508Z",
     "start_time": "2023-09-15T12:50:40.379513Z"
    }
   },
   "id": "1a785470253cb542"
  },
  {
   "cell_type": "code",
   "execution_count": 26,
   "outputs": [
    {
     "name": "stdout",
     "output_type": "stream",
     "text": [
      "3 11 23 39 59 83 111 143 179 219 263 311 363 419 479 543 611 683 759 839 923 1011 1103 1199 1299 1403 1511 1623 1739 1859 1983 2111 2243 2379 2519 2663 2811 2963 3119 3279 3443 3611 3783 3959 4139 4323 4511 4703 4899 5099 "
     ]
    }
   ],
   "source": [
    "add_val = 0\n",
    "for i in range(1, 101, 2):\n",
    "    add_val += 2 * i\n",
    "    print(i + add_val, end=\" \")"
   ],
   "metadata": {
    "collapsed": false,
    "ExecuteTime": {
     "end_time": "2023-09-15T13:01:21.064807Z",
     "start_time": "2023-09-15T13:01:21.061385Z"
    }
   },
   "id": "7c6228f7b4571234"
  },
  {
   "cell_type": "code",
   "execution_count": 29,
   "outputs": [
    {
     "name": "stdout",
     "output_type": "stream",
     "text": [
      "1, 1, 2, 3, 5, 8, 13, 21, 34, 55, "
     ]
    }
   ],
   "source": [
    "term1 = 1\n",
    "term2 = 1\n",
    "print(f\"{term1}, {term2}, \", end=\"\")\n",
    "while True:\n",
    "    term3 = term1 + term2\n",
    "    print(f\"{term3}\", end=\", \")\n",
    "    temp = term2\n",
    "    term2 = term3\n",
    "    term1 = temp\n",
    "    if term3 == 55:\n",
    "        break"
   ],
   "metadata": {
    "collapsed": false,
    "ExecuteTime": {
     "end_time": "2023-09-15T13:05:43.181604Z",
     "start_time": "2023-09-15T13:05:43.167248Z"
    }
   },
   "id": "1bd4145a47123003"
  },
  {
   "cell_type": "code",
   "execution_count": null,
   "outputs": [],
   "source": [],
   "metadata": {
    "collapsed": false
   },
   "id": "370d6026cce45ece"
  }
 ],
 "metadata": {
  "kernelspec": {
   "display_name": "Python 3",
   "language": "python",
   "name": "python3"
  },
  "language_info": {
   "codemirror_mode": {
    "name": "ipython",
    "version": 2
   },
   "file_extension": ".py",
   "mimetype": "text/x-python",
   "name": "python",
   "nbconvert_exporter": "python",
   "pygments_lexer": "ipython2",
   "version": "2.7.6"
  }
 },
 "nbformat": 4,
 "nbformat_minor": 5
}
