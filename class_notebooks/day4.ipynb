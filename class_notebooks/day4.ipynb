{
 "cells": [
  {
   "cell_type": "markdown",
   "source": [
    "# Python for & while loops"
   ],
   "metadata": {
    "collapsed": false
   },
   "id": "b44e18502972670f"
  },
  {
   "cell_type": "markdown",
   "source": [
    "For and while loops are pretty useful in coding, in python, the implementation is relatively simple. The usual rule of thumb with for and while loops is:\n",
    "\n",
    "✅I know how many times I need to repeat something --> *for loop*\n",
    "❌I know what the *stop condition* should be, but not how many times you need to repeat --> *while loop*"
   ],
   "metadata": {
    "collapsed": false
   },
   "id": "b5f2e1726da0adcf"
  },
  {
   "cell_type": "markdown",
   "source": [
    "Here is a sample of *while* loops, you can see that in this case, we don't know how many times exactly this loop needs to run. We do know however, when to stop."
   ],
   "metadata": {
    "collapsed": false
   },
   "id": "42ba80626f556531"
  },
  {
   "cell_type": "code",
   "execution_count": 1,
   "outputs": [
    {
     "name": "stdout",
     "output_type": "stream",
     "text": [
      "Playing random number game\n",
      "Playing random number game\n",
      "Playing random number game\n",
      "Playing random number game\n",
      "Playing random number game\n",
      "Playing random number game\n",
      "Playing random number game\n",
      "Playing random number game\n",
      "Playing random number game\n",
      "Playing random number game\n",
      "Game over!\n"
     ]
    }
   ],
   "source": [
    "import random\n",
    "game_continue = True\n",
    "while game_continue:\n",
    "    print(\"Playing random number game\")\n",
    "    if random.random() < .2:\n",
    "        print(\"Game over!\")\n",
    "        game_continue = False"
   ],
   "metadata": {
    "collapsed": false,
    "ExecuteTime": {
     "end_time": "2023-09-15T12:30:20.014701Z",
     "start_time": "2023-09-15T12:30:20.011222Z"
    }
   },
   "id": "fa5bfe1c0d438438"
  },
  {
   "cell_type": "markdown",
   "source": [
    "If we do know how many times we need to loop, it's best to use a for loop"
   ],
   "metadata": {
    "collapsed": false
   },
   "id": "ef29bfe7d7dcf3c5"
  },
  {
   "cell_type": "code",
   "execution_count": 4,
   "outputs": [
    {
     "name": "stdout",
     "output_type": "stream",
     "text": [
      "0\n",
      "1\n",
      "2\n",
      "3\n",
      "4\n",
      "5\n",
      "7\n",
      "9\n",
      "11\n",
      "13\n",
      "15\n",
      "17\n",
      "19\n",
      "21\n",
      "23\n",
      "25\n",
      "27\n",
      "29\n",
      "31\n",
      "33\n",
      "35\n",
      "37\n",
      "39\n",
      "41\n",
      "43\n",
      "45\n",
      "47\n",
      "49\n",
      "51\n",
      "53\n",
      "55\n",
      "57\n",
      "59\n",
      "61\n",
      "63\n",
      "65\n",
      "67\n",
      "69\n",
      "71\n",
      "73\n",
      "75\n",
      "77\n",
      "79\n",
      "81\n",
      "83\n",
      "85\n",
      "87\n",
      "89\n",
      "91\n",
      "93\n",
      "95\n",
      "97\n",
      "99\n"
     ]
    }
   ],
   "source": [
    "for x in range(5):\n",
    "    print(x)\n",
    "    \n",
    "# the same thing as for(int i = 5; i < 100; i+=2) in other languages\n",
    "for x in range(5, 100, 2):\n",
    "    print(x)"
   ],
   "metadata": {
    "collapsed": false,
    "ExecuteTime": {
     "end_time": "2023-09-15T12:35:29.363998Z",
     "start_time": "2023-09-15T12:35:29.360972Z"
    }
   },
   "id": "72f54e39e0e54a0f"
  },
  {
   "cell_type": "code",
   "execution_count": null,
   "outputs": [],
   "source": [],
   "metadata": {
    "collapsed": false
   },
   "id": "b77e64f71f1a19d1"
  }
 ],
 "metadata": {
  "kernelspec": {
   "display_name": "Python 3",
   "language": "python",
   "name": "python3"
  },
  "language_info": {
   "codemirror_mode": {
    "name": "ipython",
    "version": 2
   },
   "file_extension": ".py",
   "mimetype": "text/x-python",
   "name": "python",
   "nbconvert_exporter": "python",
   "pygments_lexer": "ipython2",
   "version": "2.7.6"
  }
 },
 "nbformat": 4,
 "nbformat_minor": 5
}
