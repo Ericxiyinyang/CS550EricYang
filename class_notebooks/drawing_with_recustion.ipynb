{
 "cells": [
  {
   "cell_type": "markdown",
   "source": [
    "# Drawing Stuff! w/ Recursion!"
   ],
   "metadata": {
    "collapsed": false
   },
   "id": "98be264792933479"
  },
  {
   "cell_type": "markdown",
   "source": [
    "Let's now apply the concept of *recursion* that we learned yesterday with a drawing lib in python called \"turtle\""
   ],
   "metadata": {
    "collapsed": false
   },
   "id": "55e05403efe0b79b"
  },
  {
   "cell_type": "code",
   "execution_count": 2,
   "outputs": [],
   "source": [
    "import turtle"
   ],
   "metadata": {
    "collapsed": false,
    "ExecuteTime": {
     "end_time": "2023-10-19T13:26:01.892108Z",
     "start_time": "2023-10-19T13:26:01.855755Z"
    }
   },
   "id": "71be814d67a2d788"
  },
  {
   "cell_type": "code",
   "execution_count": 3,
   "outputs": [],
   "source": [
    "turtle.forward(100)\n",
    "\n",
    "turtle.exitonclick()"
   ],
   "metadata": {
    "collapsed": false,
    "ExecuteTime": {
     "end_time": "2023-10-19T13:26:05.376559Z",
     "start_time": "2023-10-19T13:26:02.835173Z"
    }
   },
   "id": "c3aff36dc899ca4f"
  },
  {
   "cell_type": "markdown",
   "source": [
    "Nice! We just got ourselves an arrow in python!"
   ],
   "metadata": {
    "collapsed": false
   },
   "id": "29ecda03912e058e"
  },
  {
   "cell_type": "markdown",
   "source": [
    "Let's now draw a triangle in turtle"
   ],
   "metadata": {
    "collapsed": false
   },
   "id": "9af681cb74b442e2"
  },
  {
   "cell_type": "code",
   "execution_count": 5,
   "outputs": [],
   "source": [
    "turtle.forward(100)\n",
    "turtle.left(120)\n",
    "turtle.forward(100)\n",
    "turtle.left(120)\n",
    "turtle.forward(100)\n",
    "turtle.left(120)\n",
    "turtle.exitonclick()"
   ],
   "metadata": {
    "collapsed": false,
    "ExecuteTime": {
     "end_time": "2023-10-19T13:26:11.537764Z",
     "start_time": "2023-10-19T13:26:08.677633Z"
    }
   },
   "id": "ab64c14964e721ed"
  },
  {
   "cell_type": "code",
   "execution_count": 9,
   "outputs": [],
   "source": [],
   "metadata": {
    "collapsed": false,
    "ExecuteTime": {
     "end_time": "2023-10-19T13:28:49.179570Z",
     "start_time": "2023-10-19T13:28:46.096713Z"
    }
   },
   "id": "2403d81aa085ad96"
  },
  {
   "cell_type": "code",
   "execution_count": null,
   "outputs": [],
   "source": [],
   "metadata": {
    "collapsed": false
   },
   "id": "13a73625366a656a"
  }
 ],
 "metadata": {
  "kernelspec": {
   "display_name": "Python 3",
   "language": "python",
   "name": "python3"
  },
  "language_info": {
   "codemirror_mode": {
    "name": "ipython",
    "version": 2
   },
   "file_extension": ".py",
   "mimetype": "text/x-python",
   "name": "python",
   "nbconvert_exporter": "python",
   "pygments_lexer": "ipython2",
   "version": "2.7.6"
  }
 },
 "nbformat": 4,
 "nbformat_minor": 5
}
